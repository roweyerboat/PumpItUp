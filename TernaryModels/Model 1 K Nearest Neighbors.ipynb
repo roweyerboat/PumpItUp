{
 "cells": [
  {
   "cell_type": "markdown",
   "metadata": {},
   "source": [
    "## Model 1: K-Nearest Neighbors\n",
    "For this first model of the well data, I will try a model using K-Nearest Neighbors.  "
   ]
  },
  {
   "cell_type": "code",
   "execution_count": 2,
   "metadata": {},
   "outputs": [],
   "source": [
    "# Importing Libraries\n",
    "import pandas as pd\n",
    "import numpy as np\n",
    "import seaborn as sns\n",
    "from sklearn.model_selection import train_test_split\n",
    "from sklearn.preprocessing import StandardScaler\n",
    "from sklearn.neighbors import KNeighborsClassifier\n",
    "from sklearn.metrics import precision_score, recall_score, accuracy_score, f1_score, confusion_matrix, classification_report"
   ]
  },
  {
   "cell_type": "code",
   "execution_count": 3,
   "metadata": {},
   "outputs": [
    {
     "data": {
      "text/html": [
       "<div>\n",
       "<style scoped>\n",
       "    .dataframe tbody tr th:only-of-type {\n",
       "        vertical-align: middle;\n",
       "    }\n",
       "\n",
       "    .dataframe tbody tr th {\n",
       "        vertical-align: top;\n",
       "    }\n",
       "\n",
       "    .dataframe thead th {\n",
       "        text-align: right;\n",
       "    }\n",
       "</style>\n",
       "<table border=\"1\" class=\"dataframe\">\n",
       "  <thead>\n",
       "    <tr style=\"text-align: right;\">\n",
       "      <th></th>\n",
       "      <th>amount_tsh</th>\n",
       "      <th>days_since_recorded</th>\n",
       "      <th>funder</th>\n",
       "      <th>gps_height</th>\n",
       "      <th>installer</th>\n",
       "      <th>basin</th>\n",
       "      <th>population</th>\n",
       "      <th>public_meeting</th>\n",
       "      <th>scheme_management</th>\n",
       "      <th>permit</th>\n",
       "      <th>construction_year</th>\n",
       "      <th>extraction_type_class</th>\n",
       "      <th>payment_type</th>\n",
       "      <th>water_quality</th>\n",
       "      <th>quantity</th>\n",
       "      <th>source</th>\n",
       "      <th>waterpoint_type</th>\n",
       "      <th>status_group</th>\n",
       "    </tr>\n",
       "  </thead>\n",
       "  <tbody>\n",
       "    <tr>\n",
       "      <td>0</td>\n",
       "      <td>6000.0</td>\n",
       "      <td>995</td>\n",
       "      <td>other</td>\n",
       "      <td>1390</td>\n",
       "      <td>other</td>\n",
       "      <td>Lake Nyasa</td>\n",
       "      <td>109</td>\n",
       "      <td>True</td>\n",
       "      <td>VWC</td>\n",
       "      <td>False</td>\n",
       "      <td>1990s</td>\n",
       "      <td>gravity</td>\n",
       "      <td>annually</td>\n",
       "      <td>soft</td>\n",
       "      <td>enough</td>\n",
       "      <td>spring</td>\n",
       "      <td>communal standpipe</td>\n",
       "      <td>functional</td>\n",
       "    </tr>\n",
       "    <tr>\n",
       "      <td>1</td>\n",
       "      <td>0.0</td>\n",
       "      <td>272</td>\n",
       "      <td>other</td>\n",
       "      <td>1399</td>\n",
       "      <td>other</td>\n",
       "      <td>Lake Victoria</td>\n",
       "      <td>280</td>\n",
       "      <td>unknown</td>\n",
       "      <td>other</td>\n",
       "      <td>True</td>\n",
       "      <td>2010s</td>\n",
       "      <td>gravity</td>\n",
       "      <td>never pay</td>\n",
       "      <td>soft</td>\n",
       "      <td>insufficient</td>\n",
       "      <td>rainwater harvesting</td>\n",
       "      <td>communal standpipe</td>\n",
       "      <td>functional</td>\n",
       "    </tr>\n",
       "    <tr>\n",
       "      <td>2</td>\n",
       "      <td>25.0</td>\n",
       "      <td>281</td>\n",
       "      <td>other</td>\n",
       "      <td>686</td>\n",
       "      <td>other</td>\n",
       "      <td>Pangani</td>\n",
       "      <td>250</td>\n",
       "      <td>True</td>\n",
       "      <td>VWC</td>\n",
       "      <td>True</td>\n",
       "      <td>2000s</td>\n",
       "      <td>gravity</td>\n",
       "      <td>per bucket</td>\n",
       "      <td>soft</td>\n",
       "      <td>enough</td>\n",
       "      <td>dam</td>\n",
       "      <td>communal standpipe multiple</td>\n",
       "      <td>functional</td>\n",
       "    </tr>\n",
       "    <tr>\n",
       "      <td>3</td>\n",
       "      <td>0.0</td>\n",
       "      <td>309</td>\n",
       "      <td>unicef</td>\n",
       "      <td>263</td>\n",
       "      <td>other</td>\n",
       "      <td>Ruvuma / Southern Coast</td>\n",
       "      <td>58</td>\n",
       "      <td>True</td>\n",
       "      <td>VWC</td>\n",
       "      <td>True</td>\n",
       "      <td>1980s</td>\n",
       "      <td>submersible</td>\n",
       "      <td>never pay</td>\n",
       "      <td>soft</td>\n",
       "      <td>dry</td>\n",
       "      <td>machine dbh</td>\n",
       "      <td>communal standpipe multiple</td>\n",
       "      <td>non functional</td>\n",
       "    </tr>\n",
       "    <tr>\n",
       "      <td>4</td>\n",
       "      <td>0.0</td>\n",
       "      <td>874</td>\n",
       "      <td>other</td>\n",
       "      <td>0</td>\n",
       "      <td>other</td>\n",
       "      <td>Lake Victoria</td>\n",
       "      <td>0</td>\n",
       "      <td>True</td>\n",
       "      <td>other</td>\n",
       "      <td>True</td>\n",
       "      <td>unknown</td>\n",
       "      <td>gravity</td>\n",
       "      <td>never pay</td>\n",
       "      <td>soft</td>\n",
       "      <td>seasonal</td>\n",
       "      <td>rainwater harvesting</td>\n",
       "      <td>communal standpipe</td>\n",
       "      <td>functional</td>\n",
       "    </tr>\n",
       "  </tbody>\n",
       "</table>\n",
       "</div>"
      ],
      "text/plain": [
       "   amount_tsh  days_since_recorded  funder  gps_height installer  \\\n",
       "0      6000.0                  995   other        1390     other   \n",
       "1         0.0                  272   other        1399     other   \n",
       "2        25.0                  281   other         686     other   \n",
       "3         0.0                  309  unicef         263     other   \n",
       "4         0.0                  874   other           0     other   \n",
       "\n",
       "                     basin  population public_meeting scheme_management  \\\n",
       "0               Lake Nyasa         109           True               VWC   \n",
       "1            Lake Victoria         280        unknown             other   \n",
       "2                  Pangani         250           True               VWC   \n",
       "3  Ruvuma / Southern Coast          58           True               VWC   \n",
       "4            Lake Victoria           0           True             other   \n",
       "\n",
       "  permit construction_year extraction_type_class payment_type water_quality  \\\n",
       "0  False             1990s               gravity     annually          soft   \n",
       "1   True             2010s               gravity    never pay          soft   \n",
       "2   True             2000s               gravity   per bucket          soft   \n",
       "3   True             1980s           submersible    never pay          soft   \n",
       "4   True           unknown               gravity    never pay          soft   \n",
       "\n",
       "       quantity                source              waterpoint_type  \\\n",
       "0        enough                spring           communal standpipe   \n",
       "1  insufficient  rainwater harvesting           communal standpipe   \n",
       "2        enough                   dam  communal standpipe multiple   \n",
       "3           dry           machine dbh  communal standpipe multiple   \n",
       "4      seasonal  rainwater harvesting           communal standpipe   \n",
       "\n",
       "     status_group  \n",
       "0      functional  \n",
       "1      functional  \n",
       "2      functional  \n",
       "3  non functional  \n",
       "4      functional  "
      ]
     },
     "execution_count": 3,
     "metadata": {},
     "output_type": "execute_result"
    }
   ],
   "source": [
    "# Importing the data from the preprocessing stage\n",
    "train_df = pd.read_csv('train_for_models.csv')\n",
    "train_df.head()"
   ]
  },
  {
   "cell_type": "code",
   "execution_count": 4,
   "metadata": {},
   "outputs": [],
   "source": [
    "# Splitting the target column from the rest of the dataframe\n",
    "target = train_df['status_group']\n",
    "train_df = train_df.drop('status_group', axis=1)"
   ]
  },
  {
   "cell_type": "code",
   "execution_count": 5,
   "metadata": {},
   "outputs": [
    {
     "data": {
      "text/html": [
       "<div>\n",
       "<style scoped>\n",
       "    .dataframe tbody tr th:only-of-type {\n",
       "        vertical-align: middle;\n",
       "    }\n",
       "\n",
       "    .dataframe tbody tr th {\n",
       "        vertical-align: top;\n",
       "    }\n",
       "\n",
       "    .dataframe thead th {\n",
       "        text-align: right;\n",
       "    }\n",
       "</style>\n",
       "<table border=\"1\" class=\"dataframe\">\n",
       "  <thead>\n",
       "    <tr style=\"text-align: right;\">\n",
       "      <th></th>\n",
       "      <th>amount_tsh</th>\n",
       "      <th>days_since_recorded</th>\n",
       "      <th>gps_height</th>\n",
       "      <th>population</th>\n",
       "      <th>funder_danida</th>\n",
       "      <th>funder_gov</th>\n",
       "      <th>funder_hesawa</th>\n",
       "      <th>funder_kkkt</th>\n",
       "      <th>funder_other</th>\n",
       "      <th>funder_rwssp</th>\n",
       "      <th>...</th>\n",
       "      <th>source_shallow well</th>\n",
       "      <th>source_spring</th>\n",
       "      <th>source_unknown</th>\n",
       "      <th>waterpoint_type_cattle trough</th>\n",
       "      <th>waterpoint_type_communal standpipe</th>\n",
       "      <th>waterpoint_type_communal standpipe multiple</th>\n",
       "      <th>waterpoint_type_dam</th>\n",
       "      <th>waterpoint_type_hand pump</th>\n",
       "      <th>waterpoint_type_improved spring</th>\n",
       "      <th>waterpoint_type_other</th>\n",
       "    </tr>\n",
       "  </thead>\n",
       "  <tbody>\n",
       "    <tr>\n",
       "      <td>0</td>\n",
       "      <td>6000.0</td>\n",
       "      <td>995</td>\n",
       "      <td>1390</td>\n",
       "      <td>109</td>\n",
       "      <td>0</td>\n",
       "      <td>0</td>\n",
       "      <td>0</td>\n",
       "      <td>0</td>\n",
       "      <td>1</td>\n",
       "      <td>0</td>\n",
       "      <td>...</td>\n",
       "      <td>0</td>\n",
       "      <td>1</td>\n",
       "      <td>0</td>\n",
       "      <td>0</td>\n",
       "      <td>1</td>\n",
       "      <td>0</td>\n",
       "      <td>0</td>\n",
       "      <td>0</td>\n",
       "      <td>0</td>\n",
       "      <td>0</td>\n",
       "    </tr>\n",
       "    <tr>\n",
       "      <td>1</td>\n",
       "      <td>0.0</td>\n",
       "      <td>272</td>\n",
       "      <td>1399</td>\n",
       "      <td>280</td>\n",
       "      <td>0</td>\n",
       "      <td>0</td>\n",
       "      <td>0</td>\n",
       "      <td>0</td>\n",
       "      <td>1</td>\n",
       "      <td>0</td>\n",
       "      <td>...</td>\n",
       "      <td>0</td>\n",
       "      <td>0</td>\n",
       "      <td>0</td>\n",
       "      <td>0</td>\n",
       "      <td>1</td>\n",
       "      <td>0</td>\n",
       "      <td>0</td>\n",
       "      <td>0</td>\n",
       "      <td>0</td>\n",
       "      <td>0</td>\n",
       "    </tr>\n",
       "    <tr>\n",
       "      <td>2</td>\n",
       "      <td>25.0</td>\n",
       "      <td>281</td>\n",
       "      <td>686</td>\n",
       "      <td>250</td>\n",
       "      <td>0</td>\n",
       "      <td>0</td>\n",
       "      <td>0</td>\n",
       "      <td>0</td>\n",
       "      <td>1</td>\n",
       "      <td>0</td>\n",
       "      <td>...</td>\n",
       "      <td>0</td>\n",
       "      <td>0</td>\n",
       "      <td>0</td>\n",
       "      <td>0</td>\n",
       "      <td>0</td>\n",
       "      <td>1</td>\n",
       "      <td>0</td>\n",
       "      <td>0</td>\n",
       "      <td>0</td>\n",
       "      <td>0</td>\n",
       "    </tr>\n",
       "    <tr>\n",
       "      <td>3</td>\n",
       "      <td>0.0</td>\n",
       "      <td>309</td>\n",
       "      <td>263</td>\n",
       "      <td>58</td>\n",
       "      <td>0</td>\n",
       "      <td>0</td>\n",
       "      <td>0</td>\n",
       "      <td>0</td>\n",
       "      <td>0</td>\n",
       "      <td>0</td>\n",
       "      <td>...</td>\n",
       "      <td>0</td>\n",
       "      <td>0</td>\n",
       "      <td>0</td>\n",
       "      <td>0</td>\n",
       "      <td>0</td>\n",
       "      <td>1</td>\n",
       "      <td>0</td>\n",
       "      <td>0</td>\n",
       "      <td>0</td>\n",
       "      <td>0</td>\n",
       "    </tr>\n",
       "    <tr>\n",
       "      <td>4</td>\n",
       "      <td>0.0</td>\n",
       "      <td>874</td>\n",
       "      <td>0</td>\n",
       "      <td>0</td>\n",
       "      <td>0</td>\n",
       "      <td>0</td>\n",
       "      <td>0</td>\n",
       "      <td>0</td>\n",
       "      <td>1</td>\n",
       "      <td>0</td>\n",
       "      <td>...</td>\n",
       "      <td>0</td>\n",
       "      <td>0</td>\n",
       "      <td>0</td>\n",
       "      <td>0</td>\n",
       "      <td>1</td>\n",
       "      <td>0</td>\n",
       "      <td>0</td>\n",
       "      <td>0</td>\n",
       "      <td>0</td>\n",
       "      <td>0</td>\n",
       "    </tr>\n",
       "  </tbody>\n",
       "</table>\n",
       "<p>5 rows × 91 columns</p>\n",
       "</div>"
      ],
      "text/plain": [
       "   amount_tsh  days_since_recorded  gps_height  population  funder_danida  \\\n",
       "0      6000.0                  995        1390         109              0   \n",
       "1         0.0                  272        1399         280              0   \n",
       "2        25.0                  281         686         250              0   \n",
       "3         0.0                  309         263          58              0   \n",
       "4         0.0                  874           0           0              0   \n",
       "\n",
       "   funder_gov  funder_hesawa  funder_kkkt  funder_other  funder_rwssp  ...  \\\n",
       "0           0              0            0             1             0  ...   \n",
       "1           0              0            0             1             0  ...   \n",
       "2           0              0            0             1             0  ...   \n",
       "3           0              0            0             0             0  ...   \n",
       "4           0              0            0             1             0  ...   \n",
       "\n",
       "   source_shallow well  source_spring  source_unknown  \\\n",
       "0                    0              1               0   \n",
       "1                    0              0               0   \n",
       "2                    0              0               0   \n",
       "3                    0              0               0   \n",
       "4                    0              0               0   \n",
       "\n",
       "   waterpoint_type_cattle trough  waterpoint_type_communal standpipe  \\\n",
       "0                              0                                   1   \n",
       "1                              0                                   1   \n",
       "2                              0                                   0   \n",
       "3                              0                                   0   \n",
       "4                              0                                   1   \n",
       "\n",
       "   waterpoint_type_communal standpipe multiple  waterpoint_type_dam  \\\n",
       "0                                            0                    0   \n",
       "1                                            0                    0   \n",
       "2                                            1                    0   \n",
       "3                                            1                    0   \n",
       "4                                            0                    0   \n",
       "\n",
       "   waterpoint_type_hand pump  waterpoint_type_improved spring  \\\n",
       "0                          0                                0   \n",
       "1                          0                                0   \n",
       "2                          0                                0   \n",
       "3                          0                                0   \n",
       "4                          0                                0   \n",
       "\n",
       "   waterpoint_type_other  \n",
       "0                      0  \n",
       "1                      0  \n",
       "2                      0  \n",
       "3                      0  \n",
       "4                      0  \n",
       "\n",
       "[5 rows x 91 columns]"
      ]
     },
     "execution_count": 5,
     "metadata": {},
     "output_type": "execute_result"
    }
   ],
   "source": [
    "# One-hot encode the categorical columns\n",
    "train_df = pd.get_dummies(train_df) \n",
    "train_df.head()"
   ]
  },
  {
   "cell_type": "code",
   "execution_count": 6,
   "metadata": {},
   "outputs": [],
   "source": [
    "# Splitting the data set into training and testing sets\n",
    "X_train, X_test, y_train, y_test = train_test_split(train_df, target, test_size=0.25, random_state=42)"
   ]
  },
  {
   "cell_type": "code",
   "execution_count": 7,
   "metadata": {},
   "outputs": [
    {
     "data": {
      "text/html": [
       "<div>\n",
       "<style scoped>\n",
       "    .dataframe tbody tr th:only-of-type {\n",
       "        vertical-align: middle;\n",
       "    }\n",
       "\n",
       "    .dataframe tbody tr th {\n",
       "        vertical-align: top;\n",
       "    }\n",
       "\n",
       "    .dataframe thead th {\n",
       "        text-align: right;\n",
       "    }\n",
       "</style>\n",
       "<table border=\"1\" class=\"dataframe\">\n",
       "  <thead>\n",
       "    <tr style=\"text-align: right;\">\n",
       "      <th></th>\n",
       "      <th>amount_tsh</th>\n",
       "      <th>days_since_recorded</th>\n",
       "      <th>gps_height</th>\n",
       "      <th>population</th>\n",
       "      <th>funder_danida</th>\n",
       "      <th>funder_gov</th>\n",
       "      <th>funder_hesawa</th>\n",
       "      <th>funder_kkkt</th>\n",
       "      <th>funder_other</th>\n",
       "      <th>funder_rwssp</th>\n",
       "      <th>...</th>\n",
       "      <th>source_shallow well</th>\n",
       "      <th>source_spring</th>\n",
       "      <th>source_unknown</th>\n",
       "      <th>waterpoint_type_cattle trough</th>\n",
       "      <th>waterpoint_type_communal standpipe</th>\n",
       "      <th>waterpoint_type_communal standpipe multiple</th>\n",
       "      <th>waterpoint_type_dam</th>\n",
       "      <th>waterpoint_type_hand pump</th>\n",
       "      <th>waterpoint_type_improved spring</th>\n",
       "      <th>waterpoint_type_other</th>\n",
       "    </tr>\n",
       "  </thead>\n",
       "  <tbody>\n",
       "    <tr>\n",
       "      <td>0</td>\n",
       "      <td>-0.093074</td>\n",
       "      <td>1.161086</td>\n",
       "      <td>-0.487869</td>\n",
       "      <td>-0.209732</td>\n",
       "      <td>-0.234547</td>\n",
       "      <td>2.360870</td>\n",
       "      <td>-0.198511</td>\n",
       "      <td>-0.150053</td>\n",
       "      <td>-1.364015</td>\n",
       "      <td>-0.155136</td>\n",
       "      <td>...</td>\n",
       "      <td>-0.630801</td>\n",
       "      <td>-0.630975</td>\n",
       "      <td>-0.034185</td>\n",
       "      <td>-0.044488</td>\n",
       "      <td>1.042285</td>\n",
       "      <td>-0.336484</td>\n",
       "      <td>-0.008206</td>\n",
       "      <td>-0.648606</td>\n",
       "      <td>-0.116644</td>\n",
       "      <td>-0.346889</td>\n",
       "    </tr>\n",
       "    <tr>\n",
       "      <td>1</td>\n",
       "      <td>-0.099150</td>\n",
       "      <td>-0.968986</td>\n",
       "      <td>-0.964042</td>\n",
       "      <td>-0.379567</td>\n",
       "      <td>-0.234547</td>\n",
       "      <td>-0.423573</td>\n",
       "      <td>-0.198511</td>\n",
       "      <td>-0.150053</td>\n",
       "      <td>0.733130</td>\n",
       "      <td>-0.155136</td>\n",
       "      <td>...</td>\n",
       "      <td>1.585285</td>\n",
       "      <td>-0.630975</td>\n",
       "      <td>-0.034185</td>\n",
       "      <td>-0.044488</td>\n",
       "      <td>-0.959431</td>\n",
       "      <td>-0.336484</td>\n",
       "      <td>-0.008206</td>\n",
       "      <td>1.541767</td>\n",
       "      <td>-0.116644</td>\n",
       "      <td>-0.346889</td>\n",
       "    </tr>\n",
       "    <tr>\n",
       "      <td>2</td>\n",
       "      <td>-0.099150</td>\n",
       "      <td>0.687737</td>\n",
       "      <td>-0.964042</td>\n",
       "      <td>-0.379567</td>\n",
       "      <td>-0.234547</td>\n",
       "      <td>-0.423573</td>\n",
       "      <td>-0.198511</td>\n",
       "      <td>-0.150053</td>\n",
       "      <td>0.733130</td>\n",
       "      <td>-0.155136</td>\n",
       "      <td>...</td>\n",
       "      <td>-0.630801</td>\n",
       "      <td>-0.630975</td>\n",
       "      <td>-0.034185</td>\n",
       "      <td>-0.044488</td>\n",
       "      <td>-0.959431</td>\n",
       "      <td>-0.336484</td>\n",
       "      <td>-0.008206</td>\n",
       "      <td>1.541767</td>\n",
       "      <td>-0.116644</td>\n",
       "      <td>-0.346889</td>\n",
       "    </tr>\n",
       "    <tr>\n",
       "      <td>3</td>\n",
       "      <td>-0.099150</td>\n",
       "      <td>-0.888097</td>\n",
       "      <td>1.260983</td>\n",
       "      <td>-0.330739</td>\n",
       "      <td>-0.234547</td>\n",
       "      <td>2.360870</td>\n",
       "      <td>-0.198511</td>\n",
       "      <td>-0.150053</td>\n",
       "      <td>-1.364015</td>\n",
       "      <td>-0.155136</td>\n",
       "      <td>...</td>\n",
       "      <td>-0.630801</td>\n",
       "      <td>-0.630975</td>\n",
       "      <td>-0.034185</td>\n",
       "      <td>-0.044488</td>\n",
       "      <td>1.042285</td>\n",
       "      <td>-0.336484</td>\n",
       "      <td>-0.008206</td>\n",
       "      <td>-0.648606</td>\n",
       "      <td>-0.116644</td>\n",
       "      <td>-0.346889</td>\n",
       "    </tr>\n",
       "    <tr>\n",
       "      <td>4</td>\n",
       "      <td>-0.099150</td>\n",
       "      <td>-1.565166</td>\n",
       "      <td>-0.209380</td>\n",
       "      <td>-0.377444</td>\n",
       "      <td>-0.234547</td>\n",
       "      <td>-0.423573</td>\n",
       "      <td>-0.198511</td>\n",
       "      <td>-0.150053</td>\n",
       "      <td>-1.364015</td>\n",
       "      <td>-0.155136</td>\n",
       "      <td>...</td>\n",
       "      <td>-0.630801</td>\n",
       "      <td>1.584849</td>\n",
       "      <td>-0.034185</td>\n",
       "      <td>-0.044488</td>\n",
       "      <td>1.042285</td>\n",
       "      <td>-0.336484</td>\n",
       "      <td>-0.008206</td>\n",
       "      <td>-0.648606</td>\n",
       "      <td>-0.116644</td>\n",
       "      <td>-0.346889</td>\n",
       "    </tr>\n",
       "  </tbody>\n",
       "</table>\n",
       "<p>5 rows × 91 columns</p>\n",
       "</div>"
      ],
      "text/plain": [
       "   amount_tsh  days_since_recorded  gps_height  population  funder_danida  \\\n",
       "0   -0.093074             1.161086   -0.487869   -0.209732      -0.234547   \n",
       "1   -0.099150            -0.968986   -0.964042   -0.379567      -0.234547   \n",
       "2   -0.099150             0.687737   -0.964042   -0.379567      -0.234547   \n",
       "3   -0.099150            -0.888097    1.260983   -0.330739      -0.234547   \n",
       "4   -0.099150            -1.565166   -0.209380   -0.377444      -0.234547   \n",
       "\n",
       "   funder_gov  funder_hesawa  funder_kkkt  funder_other  funder_rwssp  ...  \\\n",
       "0    2.360870      -0.198511    -0.150053     -1.364015     -0.155136  ...   \n",
       "1   -0.423573      -0.198511    -0.150053      0.733130     -0.155136  ...   \n",
       "2   -0.423573      -0.198511    -0.150053      0.733130     -0.155136  ...   \n",
       "3    2.360870      -0.198511    -0.150053     -1.364015     -0.155136  ...   \n",
       "4   -0.423573      -0.198511    -0.150053     -1.364015     -0.155136  ...   \n",
       "\n",
       "   source_shallow well  source_spring  source_unknown  \\\n",
       "0            -0.630801      -0.630975       -0.034185   \n",
       "1             1.585285      -0.630975       -0.034185   \n",
       "2            -0.630801      -0.630975       -0.034185   \n",
       "3            -0.630801      -0.630975       -0.034185   \n",
       "4            -0.630801       1.584849       -0.034185   \n",
       "\n",
       "   waterpoint_type_cattle trough  waterpoint_type_communal standpipe  \\\n",
       "0                      -0.044488                            1.042285   \n",
       "1                      -0.044488                           -0.959431   \n",
       "2                      -0.044488                           -0.959431   \n",
       "3                      -0.044488                            1.042285   \n",
       "4                      -0.044488                            1.042285   \n",
       "\n",
       "   waterpoint_type_communal standpipe multiple  waterpoint_type_dam  \\\n",
       "0                                    -0.336484            -0.008206   \n",
       "1                                    -0.336484            -0.008206   \n",
       "2                                    -0.336484            -0.008206   \n",
       "3                                    -0.336484            -0.008206   \n",
       "4                                    -0.336484            -0.008206   \n",
       "\n",
       "   waterpoint_type_hand pump  waterpoint_type_improved spring  \\\n",
       "0                  -0.648606                        -0.116644   \n",
       "1                   1.541767                        -0.116644   \n",
       "2                   1.541767                        -0.116644   \n",
       "3                  -0.648606                        -0.116644   \n",
       "4                  -0.648606                        -0.116644   \n",
       "\n",
       "   waterpoint_type_other  \n",
       "0              -0.346889  \n",
       "1              -0.346889  \n",
       "2              -0.346889  \n",
       "3              -0.346889  \n",
       "4              -0.346889  \n",
       "\n",
       "[5 rows x 91 columns]"
      ]
     },
     "execution_count": 7,
     "metadata": {},
     "output_type": "execute_result"
    }
   ],
   "source": [
    "# Normalizing the data using StandardScaler\n",
    "scaler = StandardScaler()\n",
    "\n",
    "scaled_data_train = scaler.fit_transform(X_train)\n",
    "scaled_data_test = scaler.transform(X_test)\n",
    "\n",
    "scaled_df_train = pd.DataFrame(scaled_data_train, columns=train_df.columns)\n",
    "scaled_df_train.head()"
   ]
  },
  {
   "cell_type": "code",
   "execution_count": 8,
   "metadata": {},
   "outputs": [],
   "source": [
    "# Fit a KNN model\n",
    "clf = KNeighborsClassifier()\n",
    "\n",
    "clf.fit(scaled_data_train, y_train)\n",
    "\n",
    "test_preds = clf.predict(scaled_data_test)"
   ]
  },
  {
   "cell_type": "code",
   "execution_count": 9,
   "metadata": {},
   "outputs": [
    {
     "name": "stdout",
     "output_type": "stream",
     "text": [
      "                         precision    recall  f1-score   support\n",
      "\n",
      "             functional       0.77      0.86      0.81      8098\n",
      "functional needs repair       0.47      0.32      0.38      1074\n",
      "         non functional       0.79      0.71      0.75      5678\n",
      "\n",
      "               accuracy                           0.76     14850\n",
      "              macro avg       0.68      0.63      0.65     14850\n",
      "           weighted avg       0.76      0.76      0.76     14850\n",
      "\n"
     ]
    }
   ],
   "source": [
    "# Evaluate the model\n",
    "print(classification_report(y_test, test_preds))"
   ]
  },
  {
   "cell_type": "code",
   "execution_count": 10,
   "metadata": {},
   "outputs": [
    {
     "data": {
      "text/plain": [
       "<matplotlib.axes._subplots.AxesSubplot at 0x1a16ea86a0>"
      ]
     },
     "execution_count": 10,
     "metadata": {},
     "output_type": "execute_result"
    },
    {
     "data": {
      "image/png": "[encoded data removed]",
      "text/plain": [
       "<Figure size 432x288 with 2 Axes>"
      ]
     },
     "metadata": {
      "needs_background": "light"
     },
     "output_type": "display_data"
    }
   ],
   "source": [
    "sns.heatmap(confusion_matrix(y_test, test_preds), annot=True, cmap='Blues')"
   ]
  },
  {
   "cell_type": "code",
   "execution_count": 11,
   "metadata": {},
   "outputs": [],
   "source": [
    "# Changing the weights to be distance\n",
    "clf_2 = KNeighborsClassifier(weights='distance')\n",
    "clf_2.fit(scaled_data_train, y_train)\n",
    "test_preds2 = clf_2.predict(scaled_data_test)"
   ]
  },
  {
   "cell_type": "code",
   "execution_count": 12,
   "metadata": {},
   "outputs": [
    {
     "name": "stdout",
     "output_type": "stream",
     "text": [
      "                         precision    recall  f1-score   support\n",
      "\n",
      "             functional       0.79      0.84      0.81      8098\n",
      "functional needs repair       0.45      0.38      0.41      1074\n",
      "         non functional       0.78      0.73      0.76      5678\n",
      "\n",
      "               accuracy                           0.77     14850\n",
      "              macro avg       0.67      0.65      0.66     14850\n",
      "           weighted avg       0.76      0.77      0.76     14850\n",
      "\n"
     ]
    }
   ],
   "source": [
    "print(classification_report(y_test, test_preds2))"
   ]
  },
  {
   "cell_type": "code",
   "execution_count": 13,
   "metadata": {},
   "outputs": [
    {
     "data": {
      "text/plain": [
       "<matplotlib.axes._subplots.AxesSubplot at 0x1a181f2390>"
      ]
     },
     "execution_count": 13,
     "metadata": {},
     "output_type": "execute_result"
    },
    {
     "data": {
      "image/png": "[encoded data removed]",
      "text/plain": [
       "<Figure size 432x288 with 2 Axes>"
      ]
     },
     "metadata": {
      "needs_background": "light"
     },
     "output_type": "display_data"
    }
   ],
   "source": [
    "sns.heatmap(confusion_matrix(y_test, test_preds2), annot=True, cmap='Blues')"
   ]
  },
  {
   "cell_type": "code",
   "execution_count": 14,
   "metadata": {},
   "outputs": [],
   "source": [
    "# Changing the leaf size to 40\n",
    "clf_3 = KNeighborsClassifier(weights='distance', leaf_size=40)\n",
    "clf_3.fit(scaled_data_train, y_train)\n",
    "test_preds3 = clf_3.predict(scaled_data_test)"
   ]
  },
  {
   "cell_type": "code",
   "execution_count": 15,
   "metadata": {},
   "outputs": [
    {
     "name": "stdout",
     "output_type": "stream",
     "text": [
      "                         precision    recall  f1-score   support\n",
      "\n",
      "             functional       0.79      0.84      0.81      8098\n",
      "functional needs repair       0.45      0.38      0.41      1074\n",
      "         non functional       0.78      0.73      0.76      5678\n",
      "\n",
      "               accuracy                           0.77     14850\n",
      "              macro avg       0.67      0.65      0.66     14850\n",
      "           weighted avg       0.76      0.77      0.76     14850\n",
      "\n"
     ]
    }
   ],
   "source": [
    "print(classification_report(y_test, test_preds3))"
   ]
  },
  {
   "cell_type": "code",
   "execution_count": 16,
   "metadata": {},
   "outputs": [
    {
     "data": {
      "text/plain": [
       "<matplotlib.axes._subplots.AxesSubplot at 0x1a1d870978>"
      ]
     },
     "execution_count": 16,
     "metadata": {},
     "output_type": "execute_result"
    },
    {
     "data": {
      "image/png": "[encoded data removed]",
      "text/plain": [
       "<Figure size 432x288 with 2 Axes>"
      ]
     },
     "metadata": {
      "needs_background": "light"
     },
     "output_type": "display_data"
    }
   ],
   "source": [
    "sns.heatmap(confusion_matrix(y_test, test_preds3), annot=True, cmap='Blues')"
   ]
  },
  {
   "cell_type": "code",
   "execution_count": 17,
   "metadata": {},
   "outputs": [],
   "source": [
    "# Checking all the parameters \n",
    "clf_4 = KNeighborsClassifier(algorithm='auto', leaf_size=30, metric='minkowski', metric_params=None, n_jobs=None, n_neighbors=3, p=2, weights='uniform')\n",
    "clf_4.fit(scaled_data_train, y_train)\n",
    "test_preds4 = clf_4.predict(scaled_data_test)"
   ]
  },
  {
   "cell_type": "code",
   "execution_count": 18,
   "metadata": {},
   "outputs": [
    {
     "name": "stdout",
     "output_type": "stream",
     "text": [
      "                         precision    recall  f1-score   support\n",
      "\n",
      "             functional       0.77      0.85      0.81      8098\n",
      "functional needs repair       0.48      0.32      0.39      1074\n",
      "         non functional       0.78      0.72      0.75      5678\n",
      "\n",
      "               accuracy                           0.76     14850\n",
      "              macro avg       0.68      0.63      0.65     14850\n",
      "           weighted avg       0.76      0.76      0.76     14850\n",
      "\n"
     ]
    }
   ],
   "source": [
    "print(classification_report(y_test, test_preds4))"
   ]
  },
  {
   "cell_type": "code",
   "execution_count": 19,
   "metadata": {},
   "outputs": [
    {
     "data": {
      "text/plain": [
       "<matplotlib.axes._subplots.AxesSubplot at 0x1a1d9f2c18>"
      ]
     },
     "execution_count": 19,
     "metadata": {},
     "output_type": "execute_result"
    },
    {
     "data": {
      "image/png": "[encoded data removed]",
      "text/plain": [
       "<Figure size 432x288 with 2 Axes>"
      ]
     },
     "metadata": {
      "needs_background": "light"
     },
     "output_type": "display_data"
    }
   ],
   "source": [
    "sns.heatmap(confusion_matrix(y_test, test_preds4), annot=True, cmap='Blues')"
   ]
  },
  {
   "cell_type": "code",
   "execution_count": null,
   "metadata": {},
   "outputs": [],
   "source": []
  }
 ],
 "metadata": {
  "kernelspec": {
   "display_name": "Python [conda env:learn-env] *",
   "language": "python",
   "name": "conda-env-learn-env-py"
  },
  "language_info": {
   "codemirror_mode": {
    "name": "ipython",
    "version": 3
   },
   "file_extension": ".py",
   "mimetype": "text/x-python",
   "name": "python",
   "nbconvert_exporter": "python",
   "pygments_lexer": "ipython3",
   "version": "3.6.9"
  }
 },
 "nbformat": 4,
 "nbformat_minor": 2
}
